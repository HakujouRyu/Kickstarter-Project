{
 "cells": [
  {
   "cell_type": "code",
   "execution_count": 27,
   "metadata": {},
   "outputs": [],
   "source": [
    "import pandas as pd \n",
    "import numpy as np \n",
    "import matplotlib.pyplot as plt\n",
    "import os"
   ]
  },
  {
   "cell_type": "code",
   "execution_count": null,
   "metadata": {},
   "outputs": [],
   "source": []
  },
  {
   "cell_type": "code",
   "execution_count": 28,
   "metadata": {},
   "outputs": [],
   "source": [
    "def get_all_csv():\n",
    "    \"\"\"Gets all of the csv files from all the different directories and concatenates them together\n",
    "    into one big DataFrame\"\"\"\n",
    "    whole = pd.DataFrame(\n",
    "            columns=['backers_count', 'blurb', 'category', 'converted_pledged_amount',\n",
    "       'country', 'created_at', 'creator', 'currency', 'currency_symbol',\n",
    "       'currency_trailing_code', 'current_currency', 'deadline',\n",
    "       'disable_communication', 'fx_rate', 'goal', 'id', 'is_starrable',\n",
    "       'launched_at', 'name', 'photo', 'pledged', 'profile', 'slug',\n",
    "       'source_url', 'spotlight', 'staff_pick', 'state', 'state_changed_at',\n",
    "       'static_usd_rate', 'urls', 'usd_pledged', 'usd_type', 'location',\n",
    "       'friends', 'is_backing', 'is_starred', 'permissions']\n",
    "    )\n",
    "    parents = os.listdir('Data')  #Get the Yearly folders inside the Data folder\n",
    "    for parent in parents:  \n",
    "        folders = os.listdir(f'Data\\\\{parent}') #Get the monthly folders inside the yearly folders\n",
    "        for folder in folders:\n",
    "            files = os.listdir(f'Data\\\\{parent}\\\\{folder}')  #Get the filenames inside monthly folders\n",
    "            monthly = pd.concat(\n",
    "                [pd.read_csv(\n",
    "                    f'Data\\\\{parent}\\\\{folder}\\\\{file}'\n",
    "                            ) for file in files]\n",
    "            ) #Reads in all the csv files in a given month\n",
    "            whole = whole.append(monthly) #Appends the monthly df to the whole\n",
    "    return whole\n",
    "            # Seems to work, but is too large for my computer to handle. \n",
    "# I'll use some logic from it to get yearly files to work with for now"
   ]
  },
  {
   "cell_type": "code",
   "execution_count": 1,
   "metadata": {},
   "outputs": [],
   "source": [
    "def get_a_year(year):\n",
    "    df = pd.DataFrame(\n",
    "            columns=['backers_count', 'blurb', 'category', 'converted_pledged_amount',\n",
    "       'country', 'created_at', 'creator', 'currency', 'currency_symbol',\n",
    "       'currency_trailing_code', 'current_currency', 'deadline',\n",
    "       'disable_communication', 'fx_rate', 'goal', 'id', 'is_starrable',\n",
    "       'launched_at', 'name', 'photo', 'pledged', 'profile', 'slug',\n",
    "       'source_url', 'spotlight', 'staff_pick', 'state', 'state_changed_at',\n",
    "       'static_usd_rate', 'urls', 'usd_pledged', 'usd_type', 'location',\n",
    "       'friends', 'is_backing', 'is_starred', 'permissions']\n",
    "    )\n",
    "    folders = os.listdir(f'Data\\\\{year}') #Get the monthly folders inside the year\n",
    "    for folder in folders:\n",
    "        files = os.listdir(f'Data\\\\{year}\\\\{folder}')  #Get the filenames inside monthly folders\n",
    "        monthly = pd.concat(\n",
    "            [pd.read_csv(\n",
    "                f'Data\\\\{year}\\\\{folder}\\\\{file}') for file in files], sort=False\n",
    "        ) #Reads in all the csv files in a given month\n",
    "        df = df.append(monthly)\n",
    "        df = df.reset_index().drop(columns='index')\n",
    "    return df\n"
   ]
  },
  {
   "cell_type": "code",
   "execution_count": 30,
   "metadata": {},
   "outputs": [],
   "source": [
    "def get_a_few(year):\n",
    "    df = pd.DataFrame(\n",
    "            columns=['backers_count', 'blurb', 'category', 'converted_pledged_amount',\n",
    "       'country', 'created_at', 'creator', 'currency', 'currency_symbol',\n",
    "       'currency_trailing_code', 'current_currency', 'deadline',\n",
    "       'disable_communication', 'fx_rate', 'goal', 'id', 'is_starrable',\n",
    "       'launched_at', 'name', 'photo', 'pledged', 'profile', 'slug',\n",
    "       'source_url', 'spotlight', 'staff_pick', 'state', 'state_changed_at',\n",
    "       'static_usd_rate', 'urls', 'usd_pledged', 'usd_type', 'location',\n",
    "       'friends', 'is_backing', 'is_starred', 'permissions']\n",
    "    )\n",
    "    folders = os.listdir(f'Data\\\\{year}') #Get the monthly folders inside the year\n",
    "    for folder in folders[:1]: #Grab a folder from that year\n",
    "        files = os.listdir(f'Data\\\\{year}\\\\{folder}')  #Get the filenames inside monthly folders\n",
    "        monthly = pd.concat(\n",
    "            [pd.read_csv(\n",
    "                f'Data\\\\{year}\\\\{folder}\\\\{file}') for file in files[:1]] #Grab a file\n",
    "        ) #Reads in all the csv files in a given month\n",
    "        df = df.append(monthly)\n",
    "        df = df.reset_index().drop(columns='index')\n",
    "    return df\n"
   ]
  },
  {
   "cell_type": "code",
   "execution_count": 2,
   "metadata": {},
   "outputs": [],
   "source": [
    "def datetime_convert(df):\n",
    "    #Time is in seconds (epoch)\n",
    "    df['created_at'] = pd.to_datetime(df['created_at'], unit='s')\n",
    "    df['deadline'] = pd.to_datetime(df['deadline'], unit='s')\n",
    "    df['launched_at'] = pd.to_datetime(df['launched_at'], unit='s')\n",
    "    # df['state_changed_at'] = pd.to_datetime(df['state_changed_at'], unit='s') Leakage for current project goals\n",
    "\n",
    "    #Break time up into columns Month day etc\n",
    "    df['month_started'] = df['created_at'].dt.month\n",
    "    df['day_started'] = df['created_at'].dt.weekday\n",
    "    df['year_started'] = df['created_at'].dt.year\n",
    "    df['month_launched'] = df['launched_at'].dt.month\n",
    "    df['day_launched'] = df['launched_at'].dt.weekday\n",
    "    df['year_launched'] = df['launched_at'].dt.year\n",
    "    df['deadline_month'] = df['deadline'].dt.month\n",
    "    df['deadline day'] = df['deadline'].dt.weekday\n",
    "    df['deadline_year'] = df['deadline'].dt.year\n",
    "\n",
    "    #Feature engineering\n",
    "    df['days_to_launch'] = (df['launched_at'] - df['created_at']).dt.days\n",
    "    df['campaign_length'] = (df['deadline'] - df['launched_at']).dt.days #campaign length in days\n",
    "    \n",
    "    return df\n",
    "\n",
    "def time_to_string(df):\n",
    "    #Convert back into strings so that we can pass to model\n",
    "    df['created_at'] = pd.to_datetime(df['created_at']).astype(str)\n",
    "    df['deadline'] = pd.to_datetime(df['deadline']).astype(str)\n",
    "    df['launched_at'] = pd.to_datetime(df['launched_at']).astype(str)\n",
    "    df['state_changed_at'] = pd.to_datetime(df['state_changed_at']).astype(str)\n",
    "\n",
    "    return df"
   ]
  },
  {
   "cell_type": "code",
   "execution_count": 32,
   "metadata": {},
   "outputs": [],
   "source": [
    "def col_dict(df, col):\n",
    "    #ONLY WORKS WITH 'category' AS IS!\n",
    "    # So I removed the for loop for now\n",
    "    \"\"\"Takes in a DataFrame and a list of column\n",
    "    names and unpacks the 'dictionaries' into new columns\"\"\"\n",
    "#     for col in cols: #Loop over columns\n",
    "    df[col] = df[col].apply(json.loads)\n",
    "    df_of_column = df[col].apply(pd.Series)\n",
    "    df_of_column.columns = [f'{col}_'+col_name for col_name in df_of_column.columns]\n",
    "    df = df.join(df_of_column)\n",
    "    return df.drop(columns=col)"
   ]
  },
  {
   "cell_type": "code",
   "execution_count": 33,
   "metadata": {},
   "outputs": [],
   "source": [
    "def drop_dupes(df):\n",
    "    df = df[~df.duplicated('id')]\n",
    "    df = df.reset_index().drop(columns='index')\n",
    "    return df"
   ]
  },
  {
   "cell_type": "code",
   "execution_count": 34,
   "metadata": {},
   "outputs": [],
   "source": [
    "# I only care about these two states for now\n",
    "def completed_campaigns(df):\n",
    "    df = df[df['state'].isin(['failed', 'successful'])]\n",
    "    return df"
   ]
  },
  {
   "cell_type": "code",
   "execution_count": 35,
   "metadata": {},
   "outputs": [],
   "source": [
    "# X and y\n",
    "X = df.drop(columns=['state','pledged', 'usd_pledged', 'state_changed_at', 'spotlight',\n",
    "                     'converted_pledged_amount', 'source_url', 'backers_count', 'state',\n",
    "                     'is_backing',\t'is_starrable', 'is_starred'])\n",
    "y = df['state']\n",
    "\n",
    "# X_train, X_val,y_train, y_val = train_test_split(X, y, random_state=42)"
   ]
  },
  {
   "cell_type": "code",
   "execution_count": 36,
   "metadata": {},
   "outputs": [
    {
     "name": "stdout",
     "output_type": "stream",
     "text": [
      "c:\\Users\\Hakuj\\Documents\\DataSets\\Kickstarter\n"
     ]
    }
   ],
   "source": [
    "cd c:\\Users\\Hakuj\\Documents\\DataSets\\Kickstarter"
   ]
  },
  {
   "cell_type": "code",
   "execution_count": 37,
   "metadata": {},
   "outputs": [],
   "source": [
    "# df2016 = get_a_year(2016)"
   ]
  },
  {
   "cell_type": "code",
   "execution_count": 38,
   "metadata": {},
   "outputs": [],
   "source": [
    "# (df2016.head())"
   ]
  },
  {
   "cell_type": "code",
   "execution_count": 39,
   "metadata": {},
   "outputs": [],
   "source": [
    "df = get_a_few(2016)"
   ]
  },
  {
   "cell_type": "code",
   "execution_count": null,
   "metadata": {},
   "outputs": [],
   "source": []
  }
 ],
 "metadata": {
  "file_extension": ".py",
  "kernelspec": {
   "display_name": "Python 3",
   "language": "python",
   "name": "python3"
  },
  "language_info": {
   "codemirror_mode": {
    "name": "ipython",
    "version": 3
   },
   "file_extension": ".py",
   "mimetype": "text/x-python",
   "name": "python",
   "nbconvert_exporter": "python",
   "pygments_lexer": "ipython3",
   "version": "3.7.4"
  },
  "mimetype": "text/x-python",
  "name": "python",
  "npconvert_exporter": "python",
  "pygments_lexer": "ipython3",
  "varInspector": {
   "cols": {
    "lenName": 16,
    "lenType": 16,
    "lenVar": 40
   },
   "kernels_config": {
    "python": {
     "delete_cmd_postfix": "",
     "delete_cmd_prefix": "del ",
     "library": "var_list.py",
     "varRefreshCmd": "print(var_dic_list())"
    },
    "r": {
     "delete_cmd_postfix": ") ",
     "delete_cmd_prefix": "rm(",
     "library": "var_list.r",
     "varRefreshCmd": "cat(var_dic_list()) "
    }
   },
   "types_to_exclude": [
    "module",
    "function",
    "builtin_function_or_method",
    "instance",
    "_Feature"
   ],
   "window_display": false
  },
  "version": 3
 },
 "nbformat": 4,
 "nbformat_minor": 2
}
